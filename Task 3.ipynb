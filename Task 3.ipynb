{
  "nbformat": 4,
  "nbformat_minor": 0,
  "metadata": {
    "colab": {
      "provenance": []
    },
    "kernelspec": {
      "name": "python3",
      "display_name": "Python 3"
    },
    "language_info": {
      "name": "python"
    }
  },
  "cells": [
    {
      "cell_type": "markdown",
      "source": [
        "Step-1 : Install Required Libraries"
      ],
      "metadata": {
        "id": "D-cG_b_9DPaV"
      }
    },
    {
      "cell_type": "code",
      "execution_count": 1,
      "metadata": {
        "colab": {
          "base_uri": "https://localhost:8080/"
        },
        "id": "wEWMe8IXB70c",
        "outputId": "3ad3684f-e86a-4e3e-dd56-8432898a6475"
      },
      "outputs": [
        {
          "output_type": "stream",
          "name": "stdout",
          "text": [
            "Collecting dash\n",
            "  Downloading dash-3.1.0-py3-none-any.whl.metadata (10 kB)\n",
            "Requirement already satisfied: pandas in /usr/local/lib/python3.11/dist-packages (2.2.2)\n",
            "Requirement already satisfied: plotly in /usr/local/lib/python3.11/dist-packages (5.24.1)\n",
            "Requirement already satisfied: Flask<3.2,>=1.0.4 in /usr/local/lib/python3.11/dist-packages (from dash) (3.1.1)\n",
            "Requirement already satisfied: Werkzeug<3.2 in /usr/local/lib/python3.11/dist-packages (from dash) (3.1.3)\n",
            "Requirement already satisfied: importlib-metadata in /usr/local/lib/python3.11/dist-packages (from dash) (8.7.0)\n",
            "Requirement already satisfied: typing-extensions>=4.1.1 in /usr/local/lib/python3.11/dist-packages (from dash) (4.14.0)\n",
            "Requirement already satisfied: requests in /usr/local/lib/python3.11/dist-packages (from dash) (2.32.3)\n",
            "Collecting retrying (from dash)\n",
            "  Downloading retrying-1.4.0-py3-none-any.whl.metadata (7.5 kB)\n",
            "Requirement already satisfied: nest-asyncio in /usr/local/lib/python3.11/dist-packages (from dash) (1.6.0)\n",
            "Requirement already satisfied: setuptools in /usr/local/lib/python3.11/dist-packages (from dash) (75.2.0)\n",
            "Requirement already satisfied: numpy>=1.23.2 in /usr/local/lib/python3.11/dist-packages (from pandas) (2.0.2)\n",
            "Requirement already satisfied: python-dateutil>=2.8.2 in /usr/local/lib/python3.11/dist-packages (from pandas) (2.9.0.post0)\n",
            "Requirement already satisfied: pytz>=2020.1 in /usr/local/lib/python3.11/dist-packages (from pandas) (2025.2)\n",
            "Requirement already satisfied: tzdata>=2022.7 in /usr/local/lib/python3.11/dist-packages (from pandas) (2025.2)\n",
            "Requirement already satisfied: tenacity>=6.2.0 in /usr/local/lib/python3.11/dist-packages (from plotly) (8.5.0)\n",
            "Requirement already satisfied: packaging in /usr/local/lib/python3.11/dist-packages (from plotly) (24.2)\n",
            "Requirement already satisfied: blinker>=1.9.0 in /usr/local/lib/python3.11/dist-packages (from Flask<3.2,>=1.0.4->dash) (1.9.0)\n",
            "Requirement already satisfied: click>=8.1.3 in /usr/local/lib/python3.11/dist-packages (from Flask<3.2,>=1.0.4->dash) (8.2.1)\n",
            "Requirement already satisfied: itsdangerous>=2.2.0 in /usr/local/lib/python3.11/dist-packages (from Flask<3.2,>=1.0.4->dash) (2.2.0)\n",
            "Requirement already satisfied: jinja2>=3.1.2 in /usr/local/lib/python3.11/dist-packages (from Flask<3.2,>=1.0.4->dash) (3.1.6)\n",
            "Requirement already satisfied: markupsafe>=2.1.1 in /usr/local/lib/python3.11/dist-packages (from Flask<3.2,>=1.0.4->dash) (3.0.2)\n",
            "Requirement already satisfied: six>=1.5 in /usr/local/lib/python3.11/dist-packages (from python-dateutil>=2.8.2->pandas) (1.17.0)\n",
            "Requirement already satisfied: zipp>=3.20 in /usr/local/lib/python3.11/dist-packages (from importlib-metadata->dash) (3.23.0)\n",
            "Requirement already satisfied: charset-normalizer<4,>=2 in /usr/local/lib/python3.11/dist-packages (from requests->dash) (3.4.2)\n",
            "Requirement already satisfied: idna<4,>=2.5 in /usr/local/lib/python3.11/dist-packages (from requests->dash) (3.10)\n",
            "Requirement already satisfied: urllib3<3,>=1.21.1 in /usr/local/lib/python3.11/dist-packages (from requests->dash) (2.4.0)\n",
            "Requirement already satisfied: certifi>=2017.4.17 in /usr/local/lib/python3.11/dist-packages (from requests->dash) (2025.6.15)\n",
            "Downloading dash-3.1.0-py3-none-any.whl (7.9 MB)\n",
            "\u001b[2K   \u001b[90m━━━━━━━━━━━━━━━━━━━━━━━━━━━━━━━━━━━━━━━━\u001b[0m \u001b[32m7.9/7.9 MB\u001b[0m \u001b[31m51.8 MB/s\u001b[0m eta \u001b[36m0:00:00\u001b[0m\n",
            "\u001b[?25hDownloading retrying-1.4.0-py3-none-any.whl (11 kB)\n",
            "Installing collected packages: retrying, dash\n",
            "Successfully installed dash-3.1.0 retrying-1.4.0\n"
          ]
        }
      ],
      "source": [
        "!pip install dash pandas plotly"
      ]
    },
    {
      "cell_type": "markdown",
      "source": [
        "Step-2 : Import Required Libraries"
      ],
      "metadata": {
        "id": "b2dms61jDYnt"
      }
    },
    {
      "cell_type": "code",
      "source": [
        "# Importing required libraries\n",
        "import dash\n",
        "from dash import html, dcc, Input, Output  # Dash components\n",
        "import pandas as pd                       # For data manipulation\n",
        "import plotly.express as px               # For visualization"
      ],
      "metadata": {
        "id": "btMScp7NB-N9"
      },
      "execution_count": 2,
      "outputs": []
    },
    {
      "cell_type": "markdown",
      "source": [
        "Step-3 : Load the Dataset"
      ],
      "metadata": {
        "id": "-IiKW-GrDh9V"
      }
    },
    {
      "cell_type": "code",
      "source": [
        "# Load the sample Iris dataset\n",
        "df = px.data.iris()"
      ],
      "metadata": {
        "id": "fSn46xJ3CJMo"
      },
      "execution_count": 3,
      "outputs": []
    },
    {
      "cell_type": "markdown",
      "source": [
        "Step-4 : Instiallise the Dash App"
      ],
      "metadata": {
        "id": "fQKdcb8VDnos"
      }
    },
    {
      "cell_type": "code",
      "source": [
        "# Initialize Dash app\n",
        "app = dash.Dash(__name__)\n",
        "app.title = \"Iris Dashboard\""
      ],
      "metadata": {
        "id": "piZeFMmYCLW5"
      },
      "execution_count": 4,
      "outputs": []
    },
    {
      "cell_type": "markdown",
      "source": [
        "Step-5 : Define App Layout"
      ],
      "metadata": {
        "id": "X4b4UC8EDudq"
      }
    },
    {
      "cell_type": "code",
      "source": [
        "app.layout = html.Div([\n",
        "    html.H1(\"Iris Dataset Dashboard\", style={'textAlign': 'center'}),\n",
        "\n",
        "    # Dropdown for selecting species\n",
        "    html.Label(\"Select Species:\"),\n",
        "    dcc.Dropdown(\n",
        "        id='species-dropdown',\n",
        "        options=[{'label': sp, 'value': sp} for sp in df['species'].unique()],\n",
        "        value='setosa',  # default selected\n",
        "        clearable=False\n",
        "    ),\n",
        "\n",
        "    # Scatter plot area\n",
        "    dcc.Graph(id='scatter-plot'),\n",
        "\n",
        "    # Histogram area\n",
        "    dcc.Graph(id='histogram')\n",
        "])"
      ],
      "metadata": {
        "id": "9G3LQwARCPjF"
      },
      "execution_count": 5,
      "outputs": []
    },
    {
      "cell_type": "markdown",
      "source": [
        "Step-6 : Add Interactivity Using Callback"
      ],
      "metadata": {
        "id": "vyBWX-xfD3cc"
      }
    },
    {
      "cell_type": "code",
      "source": [
        "@app.callback(\n",
        "    [Output('scatter-plot', 'figure'),\n",
        "     Output('histogram', 'figure')],\n",
        "    [Input('species-dropdown', 'value')]\n",
        ")\n",
        "def update_graphs(selected_species):\n",
        "    # Filter data by selected species\n",
        "    filtered_df = df[df['species'] == selected_species]\n",
        "\n",
        "    # Scatter plot: Sepal Width vs Sepal Length\n",
        "    scatter_fig = px.scatter(\n",
        "        filtered_df,\n",
        "        x='sepal_width',\n",
        "        y='sepal_length',\n",
        "        color='species',\n",
        "        title=f'Sepal Width vs Sepal Length - {selected_species}'\n",
        "    )\n",
        "\n",
        "    # Histogram: Petal Length distribution\n",
        "    hist_fig = px.histogram(\n",
        "        filtered_df,\n",
        "        x='petal_length',\n",
        "        nbins=10,\n",
        "        title=f'Petal Length Distribution - {selected_species}'\n",
        "    )\n",
        "\n",
        "    return scatter_fig, hist_fig"
      ],
      "metadata": {
        "id": "eoX-3jcJCSG_"
      },
      "execution_count": 6,
      "outputs": []
    },
    {
      "cell_type": "markdown",
      "source": [
        "Step-7 : Run the App"
      ],
      "metadata": {
        "id": "q3E2WPqOD-Wn"
      }
    },
    {
      "cell_type": "code",
      "source": [
        "if __name__ == '__main__':\n",
        "    app.run(debug=True)"
      ],
      "metadata": {
        "colab": {
          "base_uri": "https://localhost:8080/",
          "height": 671
        },
        "id": "yY8VDHsnCUsG",
        "outputId": "d0451984-fa0e-4cfe-b118-ba5a2e1b1e87"
      },
      "execution_count": 8,
      "outputs": [
        {
          "output_type": "display_data",
          "data": {
            "text/plain": [
              "<IPython.core.display.Javascript object>"
            ],
            "application/javascript": [
              "(async (port, path, width, height, cache, element) => {\n",
              "    if (!google.colab.kernel.accessAllowed && !cache) {\n",
              "      return;\n",
              "    }\n",
              "    element.appendChild(document.createTextNode(''));\n",
              "    const url = await google.colab.kernel.proxyPort(port, {cache});\n",
              "    const iframe = document.createElement('iframe');\n",
              "    iframe.src = new URL(path, url).toString();\n",
              "    iframe.height = height;\n",
              "    iframe.width = width;\n",
              "    iframe.style.border = 0;\n",
              "    iframe.allow = [\n",
              "        'accelerometer',\n",
              "        'autoplay',\n",
              "        'camera',\n",
              "        'clipboard-read',\n",
              "        'clipboard-write',\n",
              "        'gyroscope',\n",
              "        'magnetometer',\n",
              "        'microphone',\n",
              "        'serial',\n",
              "        'usb',\n",
              "        'xr-spatial-tracking',\n",
              "    ].join('; ');\n",
              "    element.appendChild(iframe);\n",
              "  })(8050, \"/\", \"100%\", 650, false, window.element)"
            ]
          },
          "metadata": {}
        }
      ]
    }
  ]
}